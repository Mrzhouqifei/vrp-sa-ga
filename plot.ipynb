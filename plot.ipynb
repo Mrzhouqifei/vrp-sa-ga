{
 "cells": [
  {
   "cell_type": "code",
   "execution_count": null,
   "metadata": {},
   "outputs": [],
   "source": [
    "import numpy as np\n",
    "import pandas as pd\n",
    "import itertools\n",
    "import matplotlib.pyplot as plt\n",
    "%matplotlib inline"
   ]
  },
  {
   "cell_type": "code",
   "execution_count": null,
   "metadata": {},
   "outputs": [],
   "source": [
    "def create(n, m, c, t):\n",
    "    xmax = 1000\n",
    "    x = [i for i in range(xmax)]\n",
    "    y = {}\n",
    "    for alg in [\"sa\", \"ga\"]:\n",
    "        Y = []\n",
    "        for i in itertools.count():\n",
    "            try:\n",
    "                df = pd.read_csv(\"src/out/{}_n{}_m{}_c{}_{}_{}.csv\".format(alg, n, m, c, t, i))\n",
    "            except FileNotFoundError as e:\n",
    "                break\n",
    "            time = df['time'].values\n",
    "            score = df['score'].values\n",
    "            Y.append([np.interp(i, time, score) for i in x])\n",
    "        y[alg] = np.average(Y, axis=0)\n",
    "    return x, y[\"sa\"], y[\"ga\"]\n",
    "\n",
    "def plot(n, m, c, t):\n",
    "    t_map = {\n",
    "    \"u\": \"Uniform graph with {} nodes\".format(n),\n",
    "    \"c\": \"Clustered graph with {} nodes, {} clusters\".format(n, c),\n",
    "    \"m\": \"Mixed graph with {} nodes, {} clusters\".format(n, c)\n",
    "    }\n",
    "    x, y_sa, y_ga = create(n, m, c, t)\n",
    "    fig = plt.figure()\n",
    "    plt.plot(x, y_sa, label=\"SA\")\n",
    "    plt.plot(x, y_ga, label=\"GA\")\n",
    "    \n",
    "    # Plot optimal (bruteforce) if it exists\n",
    "    try:\n",
    "        df = pd.read_csv(\"src/out/brute_n{}_m{}_c{}_{}.csv\".format(n, m, c, t))\n",
    "        score = df['score'].values[0]\n",
    "        plt.plot(x, score, 'r--', label=\"Optimal\")\n",
    "    except FileNotFoundError as e: pass\n",
    "\n",
    "    plt.legend()\n",
    "    plt.title(\"{}, {} vehicles\".format(t_map[t], m))\n",
    "    plt.xlabel(\"Time (μs)\")\n",
    "    plt.ylabel(\"Score\");\n",
    "    fig.savefig(\"img/n{}_m{}_c{}_{}.png\".format(n, m, c, t), dpi=300)"
   ]
  },
  {
   "cell_type": "code",
   "execution_count": null,
   "metadata": {
    "scrolled": false
   },
   "outputs": [],
   "source": [
    "cases = [\n",
    "    (10, 3, 3),\n",
    "    (10, 5, 3),\n",
    "    (100, 10, 5),\n",
    "    (500, 50, 25),\n",
    "    (1000, 10, 100),\n",
    "    (1000, 100, 100),\n",
    "    (1000, 200, 100)\n",
    "]\n",
    "\n",
    "for case in cases:\n",
    "    for t in [\"u\", \"c\", \"m\"]:\n",
    "        plot(*case, t)"
   ]
  }
 ],
 "metadata": {
  "kernelspec": {
   "display_name": "Python 3",
   "language": "python",
   "name": "python3"
  },
  "language_info": {
   "codemirror_mode": {
    "name": "ipython",
    "version": 3
   },
   "file_extension": ".py",
   "mimetype": "text/x-python",
   "name": "python",
   "nbconvert_exporter": "python",
   "pygments_lexer": "ipython3",
   "version": "3.6.8"
  }
 },
 "nbformat": 4,
 "nbformat_minor": 2
}
